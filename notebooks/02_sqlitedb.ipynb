{
 "cells": [
  {
   "cell_type": "markdown",
   "metadata": {},
   "source": [
    "# Construindo um vector database em um banco de dados relacional\n",
    "\n",
    "Nesse notebook iremos inserir um vector database em um banco de dados relacional.\n",
    "\n",
    "O objetivo é demonstrar que podemos inserir os vetores e fazer queries com eles também.\n"
   ]
  },
  {
   "cell_type": "markdown",
   "metadata": {},
   "source": [
    "## 1 - Configuração"
   ]
  },
  {
   "cell_type": "code",
   "execution_count": 1,
   "metadata": {},
   "outputs": [],
   "source": [
    "# Recarrega automaticamente quando há modificação na pasta src/\n",
    "%load_ext autoreload\n",
    "%autoreload 2"
   ]
  },
  {
   "cell_type": "code",
   "execution_count": 2,
   "metadata": {},
   "outputs": [],
   "source": [
    "import os\n",
    "import sys\n",
    "import sqlite3\n",
    "from pathlib import Path"
   ]
  },
  {
   "cell_type": "code",
   "execution_count": 3,
   "metadata": {},
   "outputs": [],
   "source": [
    "# Configuração de diretórios\n",
    "HERE = os.path.abspath(\".\")\n",
    "MODULES = Path(HERE).parent\n",
    "DATA = Path(HERE).parent / \"data\"\n",
    "\n",
    "sys.path.insert(\n",
    "    0, str(MODULES)\n",
    ")  # para ser possível importar os módulos personalizados da pasta src/"
   ]
  },
  {
   "cell_type": "code",
   "execution_count": 4,
   "metadata": {},
   "outputs": [],
   "source": [
    "from src.io import SQLiteIO\n",
    "\n",
    "sqlite = SQLiteIO(DATA / \"2_processed\" / \"database-vector.db\")"
   ]
  },
  {
   "cell_type": "markdown",
   "metadata": {},
   "source": [
    "## 2 - Criando tabela"
   ]
  },
  {
   "cell_type": "code",
   "execution_count": 5,
   "metadata": {},
   "outputs": [
    {
     "data": {
      "text/plain": [
       "<sqlite3.Cursor at 0x7f05de710940>"
      ]
     },
     "execution_count": 5,
     "metadata": {},
     "output_type": "execute_result"
    }
   ],
   "source": [
    "sqlite.query(\n",
    "    \"\"\"\n",
    "        CREATE TABLE IF NOT EXISTS vectors (\n",
    "            id INTEGER PRIMARY KEY,\n",
    "            vector BLOB NOT NULL\n",
    "        )\n",
    "    \"\"\"\n",
    ")"
   ]
  },
  {
   "cell_type": "markdown",
   "metadata": {},
   "source": [
    "## 3 - Criando vetores aleatórios"
   ]
  },
  {
   "cell_type": "code",
   "execution_count": 6,
   "metadata": {},
   "outputs": [
    {
     "name": "stdout",
     "output_type": "stream",
     "text": [
      "Vector 1: [2.22981626 8.48184276 6.50987484 2.73691434] \n",
      "Vector 2: [7.95405356 5.40855442 5.02539578 1.09566433]\n"
     ]
    }
   ],
   "source": [
    "from src.utils import create_random_vector\n",
    "\n",
    "vec1 = create_random_vector((0, 10), 4)\n",
    "vec2 = create_random_vector((0, 10), 4)\n",
    "print(f\"Vector 1: {vec1} \\nVector 2: {vec2}\")"
   ]
  },
  {
   "cell_type": "markdown",
   "metadata": {},
   "source": [
    "## 4 - Populando tabela com os vetores"
   ]
  },
  {
   "cell_type": "code",
   "execution_count": 7,
   "metadata": {},
   "outputs": [],
   "source": [
    "from src.utils import transform_np_array\n",
    "\n",
    "sqlite.query(\n",
    "    \"INSERT INTO vectors (vector) VALUES(?)\",\n",
    "    (sqlite3.Binary(transform_np_array(vec1, \"bytes\")),),\n",
    ")\n",
    "sqlite.query(\n",
    "    \"INSERT INTO vectors (vector) VALUES(?)\",\n",
    "    (sqlite3.Binary(transform_np_array(vec2, \"bytes\")),),\n",
    ")\n",
    "\n",
    "sqlite.close()"
   ]
  },
  {
   "cell_type": "code",
   "execution_count": 8,
   "metadata": {},
   "outputs": [
    {
     "data": {
      "text/html": [
       "<div>\n",
       "<style scoped>\n",
       "    .dataframe tbody tr th:only-of-type {\n",
       "        vertical-align: middle;\n",
       "    }\n",
       "\n",
       "    .dataframe tbody tr th {\n",
       "        vertical-align: top;\n",
       "    }\n",
       "\n",
       "    .dataframe thead th {\n",
       "        text-align: right;\n",
       "    }\n",
       "</style>\n",
       "<table border=\"1\" class=\"dataframe\">\n",
       "  <thead>\n",
       "    <tr style=\"text-align: right;\">\n",
       "      <th></th>\n",
       "      <th>id</th>\n",
       "      <th>vector</th>\n",
       "    </tr>\n",
       "  </thead>\n",
       "  <tbody>\n",
       "    <tr>\n",
       "      <th>0</th>\n",
       "      <td>1</td>\n",
       "      <td>b'\\xc6Gz\\xe8\\xa9\\xd6\\x01@:\\xd2,\\x18\\xb4\\xf6 @\\...</td>\n",
       "    </tr>\n",
       "    <tr>\n",
       "      <th>1</th>\n",
       "      <td>2</td>\n",
       "      <td>b'hM\\xdfj\\xf3\\xd0\\x1f@\\x01N\\x1b\\x17\\\\\\xa2\\x15@...</td>\n",
       "    </tr>\n",
       "  </tbody>\n",
       "</table>\n",
       "</div>"
      ],
      "text/plain": [
       "   id                                             vector\n",
       "0   1  b'\\xc6Gz\\xe8\\xa9\\xd6\\x01@:\\xd2,\\x18\\xb4\\xf6 @\\...\n",
       "1   2  b'hM\\xdfj\\xf3\\xd0\\x1f@\\x01N\\x1b\\x17\\\\\\xa2\\x15@..."
      ]
     },
     "execution_count": 8,
     "metadata": {},
     "output_type": "execute_result"
    }
   ],
   "source": [
    "sqlite.read(table_name=\"vectors\")"
   ]
  },
  {
   "cell_type": "markdown",
   "metadata": {},
   "source": [
    "## 5 - Buscando o vetor mais próximo da query"
   ]
  },
  {
   "cell_type": "code",
   "execution_count": 9,
   "metadata": {},
   "outputs": [
    {
     "name": "stdout",
     "output_type": "stream",
     "text": [
      "(b'\\xc6Gz\\xe8\\xa9\\xd6\\x01@:\\xd2,\\x18\\xb4\\xf6 @\\xaf\\xae\\\\\\xa1\\x1c\\n\\x1a@t\\x86\\x9fX3\\xe5\\x05@',)\n"
     ]
    }
   ],
   "source": [
    "vector_query = transform_np_array(create_random_vector((0, 10), 4), \"bytes\")\n",
    "\n",
    "result = sqlite.query(\n",
    "    f\"SELECT vector FROM vectors ORDER BY abs(vector - ?) ASC\",\n",
    "    (sqlite3.Binary(vector_query),),\n",
    ")\n",
    "row = result.fetchone()\n",
    "print(row)"
   ]
  },
  {
   "cell_type": "code",
   "execution_count": 10,
   "metadata": {},
   "outputs": [
    {
     "name": "stdout",
     "output_type": "stream",
     "text": [
      "[2.22981626 8.48184276 6.50987484 2.73691434]\n"
     ]
    }
   ],
   "source": [
    "from src.utils import desserialize_bytes_array\n",
    "\n",
    "print(desserialize_bytes_array(row[0]))"
   ]
  },
  {
   "cell_type": "code",
   "execution_count": null,
   "metadata": {},
   "outputs": [],
   "source": []
  }
 ],
 "metadata": {
  "kernelspec": {
   "display_name": ".venv",
   "language": "python",
   "name": "python3"
  },
  "language_info": {
   "codemirror_mode": {
    "name": "ipython",
    "version": 3
   },
   "file_extension": ".py",
   "mimetype": "text/x-python",
   "name": "python",
   "nbconvert_exporter": "python",
   "pygments_lexer": "ipython3",
   "version": "3.11.6"
  }
 },
 "nbformat": 4,
 "nbformat_minor": 2
}
