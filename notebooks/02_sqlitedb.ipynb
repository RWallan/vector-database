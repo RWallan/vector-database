{
 "cells": [
  {
   "cell_type": "markdown",
   "metadata": {},
   "source": [
    "# Construindo um vector database em um banco de dados relacional\n",
    "\n",
    "Nesse notebook iremos inserir um vector database em um banco de dados relacional.\n",
    "\n",
    "O objetivo é demonstrar que podemos inserir os vetores e fazer queries com eles também.\n"
   ]
  },
  {
   "cell_type": "markdown",
   "metadata": {},
   "source": [
    "## 1 - Configuração"
   ]
  },
  {
   "cell_type": "code",
   "execution_count": 1,
   "metadata": {},
   "outputs": [],
   "source": [
    "# Recarrega automaticamente quando há modificação na pasta src/\n",
    "%load_ext autoreload\n",
    "%autoreload 2"
   ]
  },
  {
   "cell_type": "code",
   "execution_count": 2,
   "metadata": {},
   "outputs": [],
   "source": [
    "import os\n",
    "import sys\n",
    "import sqlite3\n",
    "from pathlib import Path"
   ]
  },
  {
   "cell_type": "code",
   "execution_count": 3,
   "metadata": {},
   "outputs": [],
   "source": [
    "# Configuração de diretórios\n",
    "HERE = os.path.abspath(\".\")\n",
    "MODULES = Path(HERE).parent\n",
    "DATA = Path(HERE).parent / \"data\"\n",
    "\n",
    "sys.path.insert(\n",
    "    0, str(MODULES)\n",
    ")  # para ser possível importar os módulos personalizados da pasta src/"
   ]
  },
  {
   "cell_type": "code",
   "execution_count": 4,
   "metadata": {},
   "outputs": [],
   "source": [
    "from src.io import SQLiteIO\n",
    "\n",
    "sqlite = SQLiteIO(DATA / \"2_processed\" / \"database-vector.db\")"
   ]
  },
  {
   "cell_type": "markdown",
   "metadata": {},
   "source": [
    "## 2 - Criando tabela\n",
    "\n",
    "Diferente do notebook 01, aqui as nossas informações são \"compiladas\" em uma única coluna que possui o nosso vetor.\n",
    "\n",
    "Nesse caso, precisamos que a nossa coluna de vetores seja um objeto binário. Sendo assim, o nosso schema fica:\n",
    "\n",
    "* Id: integer -> Chave primária;\n",
    "* Vector: blob\n"
   ]
  },
  {
   "cell_type": "code",
   "execution_count": 5,
   "metadata": {},
   "outputs": [
    {
     "data": {
      "text/plain": [
       "<sqlite3.Cursor at 0x7f20d4249740>"
      ]
     },
     "execution_count": 5,
     "metadata": {},
     "output_type": "execute_result"
    }
   ],
   "source": [
    "sqlite.query(\n",
    "    \"\"\"\n",
    "        CREATE TABLE IF NOT EXISTS vectors (\n",
    "            id INTEGER PRIMARY KEY,\n",
    "            vector BLOB NOT NULL\n",
    "        )\n",
    "    \"\"\"\n",
    ")"
   ]
  },
  {
   "cell_type": "markdown",
   "metadata": {},
   "source": [
    "## 3 - Criando vetores aleatórios\n",
    "\n",
    "Para esse notebook, simularemos os vetores já construídos a partir das nossas informações. Porém em casos mais reais, utilizaríamos um modelo de embedding que seria responsável por transformar nossa informação nos vetores.\n",
    "\n",
    "O [Hugging Face](https://huggingface.co/) possui diversos modelos Open Source que se propõem a construir os embeddings por nós, porém é possível criar um modelo personalizado a partir dos seus conhecimentos.\n",
    "\n",
    "*O Hugging Face é um hub de conteúdos focados em inteligência artificial de colaboração livre, possuindo modelos, datasets etc..*\n"
   ]
  },
  {
   "cell_type": "code",
   "execution_count": 6,
   "metadata": {},
   "outputs": [
    {
     "name": "stdout",
     "output_type": "stream",
     "text": [
      "Vector 1: [6.8754487  2.17723056 9.84518115 2.99416775] \n",
      "Vector 2: [2.62309813 7.2275818  2.50797115 5.42794579]\n"
     ]
    }
   ],
   "source": [
    "from src.utils import create_random_vector\n",
    "\n",
    "vec1 = create_random_vector((0, 10), 4)\n",
    "vec2 = create_random_vector((0, 10), 4)\n",
    "print(f\"Vector 1: {vec1} \\nVector 2: {vec2}\")"
   ]
  },
  {
   "cell_type": "markdown",
   "metadata": {},
   "source": [
    "## 4 - Populando tabela com os vetores\n",
    "\n",
    "Para essa tarefa precisamos transformar o nosso numpy array para um bytes."
   ]
  },
  {
   "cell_type": "code",
   "execution_count": 7,
   "metadata": {},
   "outputs": [],
   "source": [
    "from src.utils import transform_np_array\n",
    "\n",
    "sqlite.query(\n",
    "    \"INSERT INTO vectors (vector) VALUES(?)\",\n",
    "    (sqlite3.Binary(transform_np_array(vec1, \"bytes\")),),\n",
    ")\n",
    "sqlite.query(\n",
    "    \"INSERT INTO vectors (vector) VALUES(?)\",\n",
    "    (sqlite3.Binary(transform_np_array(vec2, \"bytes\")),),\n",
    ")\n",
    "\n",
    "sqlite.close()"
   ]
  },
  {
   "cell_type": "markdown",
   "metadata": {},
   "source": [
    "E nesse caso, nossos vetores são armazenados como objetos binários."
   ]
  },
  {
   "cell_type": "code",
   "execution_count": 8,
   "metadata": {},
   "outputs": [
    {
     "data": {
      "text/html": [
       "<div>\n",
       "<style scoped>\n",
       "    .dataframe tbody tr th:only-of-type {\n",
       "        vertical-align: middle;\n",
       "    }\n",
       "\n",
       "    .dataframe tbody tr th {\n",
       "        vertical-align: top;\n",
       "    }\n",
       "\n",
       "    .dataframe thead th {\n",
       "        text-align: right;\n",
       "    }\n",
       "</style>\n",
       "<table border=\"1\" class=\"dataframe\">\n",
       "  <thead>\n",
       "    <tr style=\"text-align: right;\">\n",
       "      <th></th>\n",
       "      <th>id</th>\n",
       "      <th>vector</th>\n",
       "    </tr>\n",
       "  </thead>\n",
       "  <tbody>\n",
       "    <tr>\n",
       "      <th>0</th>\n",
       "      <td>1</td>\n",
       "      <td>b'h\\xd3\\x08\\xa0u\\x80\\x1b@\\xed\\x91\\xae\\xdb\\xf7j...</td>\n",
       "    </tr>\n",
       "    <tr>\n",
       "      <th>1</th>\n",
       "      <td>2</td>\n",
       "      <td>b'j\\xfcy\\xdf\\x1a\\xfc\\x04@xn\\x034\\x0b\\xe9\\x1c@\\...</td>\n",
       "    </tr>\n",
       "  </tbody>\n",
       "</table>\n",
       "</div>"
      ],
      "text/plain": [
       "   id                                             vector\n",
       "0   1  b'h\\xd3\\x08\\xa0u\\x80\\x1b@\\xed\\x91\\xae\\xdb\\xf7j...\n",
       "1   2  b'j\\xfcy\\xdf\\x1a\\xfc\\x04@xn\\x034\\x0b\\xe9\\x1c@\\..."
      ]
     },
     "execution_count": 8,
     "metadata": {},
     "output_type": "execute_result"
    }
   ],
   "source": [
    "sqlite.read(table_name=\"vectors\")"
   ]
  },
  {
   "cell_type": "markdown",
   "metadata": {},
   "source": [
    "## 5 - Buscando o vetor mais próximo da query\n",
    "\n",
    "Da mesma forma que podemos filtrar as nossas queries no banco de dados estruturado padrão, nós conseguimos fazer com os nossos vetores que é chamado de similaridade. A similaridade é um cálculo feito a partir do nosso \"vetor query\" - que é o vetor com o que perguntamos - comparado aos vetores armazenados no nosso banco de dados.\n",
    "\n",
    "A similaridade é - de maneira \"grosseira\" - cálculo da distância entre pontos de dimensão n. Possuem algumas métricas \"clássicas\" que podemos utilizar como:\n",
    "\n",
    "* Distância euclidiana\n",
    "* Cosseno\n",
    "* Manhattan\n",
    "\n",
    "Porém podemos construir outras métricas para calcular essa similaridade. No nosso notebook utilizaremos uma métrica simples que é a diferença absoluta entre os dois vetores.\n"
   ]
  },
  {
   "cell_type": "code",
   "execution_count": 10,
   "metadata": {},
   "outputs": [
    {
     "name": "stdout",
     "output_type": "stream",
     "text": [
      "[2.66984295 5.39511837 7.21057865 8.73615597]\n"
     ]
    }
   ],
   "source": [
    "vector_query = create_random_vector((0, 10), 4)\n",
    "print(vector_query)\n",
    "vector_query = transform_np_array(vector_query, \"bytes\")\n"
   ]
  },
  {
   "cell_type": "markdown",
   "metadata": {},
   "source": [
    "Na query abaixo utilizaremos a métrica de diferença absoluta entre os vetores e ordenaremos em ordem ascendente."
   ]
  },
  {
   "cell_type": "code",
   "execution_count": 11,
   "metadata": {},
   "outputs": [
    {
     "name": "stdout",
     "output_type": "stream",
     "text": [
      "(b'h\\xd3\\x08\\xa0u\\x80\\x1b@\\xed\\x91\\xae\\xdb\\xf7j\\x01@\\xd5{W\\x95\\xbb\\xb0#@\\xda7+8\\x0e\\xf4\\x07@',)\n"
     ]
    }
   ],
   "source": [
    "\n",
    "result = sqlite.query(\n",
    "    \"SELECT vector FROM vectors ORDER BY abs(vector - ?) ASC\",\n",
    "    (sqlite3.Binary(vector_query),),\n",
    ")\n",
    "row = result.fetchone() # Busca o primeiro resultado\n",
    "print(row)"
   ]
  },
  {
   "cell_type": "markdown",
   "metadata": {},
   "source": [
    "Desserializando o nosso vetor que está em bytes, conseguimos ver o nosso vetor na sua forma original."
   ]
  },
  {
   "cell_type": "code",
   "execution_count": 12,
   "metadata": {},
   "outputs": [
    {
     "name": "stdout",
     "output_type": "stream",
     "text": [
      "[6.8754487  2.17723056 9.84518115 2.99416775]\n"
     ]
    }
   ],
   "source": [
    "from src.utils import desserialize_bytes_array\n",
    "\n",
    "print(desserialize_bytes_array(row[0]))"
   ]
  }
 ],
 "metadata": {
  "kernelspec": {
   "display_name": ".venv",
   "language": "python",
   "name": "python3"
  },
  "language_info": {
   "codemirror_mode": {
    "name": "ipython",
    "version": 3
   },
   "file_extension": ".py",
   "mimetype": "text/x-python",
   "name": "python",
   "nbconvert_exporter": "python",
   "pygments_lexer": "ipython3",
   "version": "3.11.6"
  }
 },
 "nbformat": 4,
 "nbformat_minor": 2
}
