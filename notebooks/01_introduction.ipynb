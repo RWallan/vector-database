{
 "cells": [
  {
   "cell_type": "markdown",
   "metadata": {},
   "source": [
    "# 1 - O que é Vector Database\n",
    "\n",
    "O Vector Database - que será chamado como VecDB nesse repositório - consiste em um banco de dados especializado para armazenar e manipular dados vetoriais altamente dimensionados de forma eficiente.\n",
    "\n",
    "Hoje em dia é extremamente necessário utilizar esse tipo de banco de dados pois 80% das informações disponíveis estão de maneira não estruturadas ([Onna](https://onna.com/maximizing-value-of-unstructured-data)). Armazenar e fazer queries de maneira eficiente ainda podem ser problemas mesmo nos bancos de dados não relacionais."
   ]
  },
  {
   "cell_type": "markdown",
   "metadata": {},
   "source": [
    "# 2 - Casos de uso\n",
    "\n",
    "O vector database pode ser usado em:\n",
    "\n",
    "1. LLM\n",
    "1. Semantic Search\n",
    "\n",
    "![Semantic Search](../public/semantic_search.png)\n",
    "\n",
    "3. Sistema de recomendação\n",
    "\n",
    "![Sistema de recomendação](../public/recomendation.png)\n",
    "\n",
    "4. Machine Learning\n",
    "\n",
    "![Machine Learning](../public/machine_learning.png)\n",
    "\n",
    "5. Detecção de anomalias\n",
    "\n",
    "![Detecção de anomalias](../public/anomaly.png)"
   ]
  },
  {
   "cell_type": "markdown",
   "metadata": {},
   "source": [
    "# 3 - Como é armazenado os dados estruturados\n",
    "\n",
    "No caso dos dados estruturados, utilizamos de banco de dados relacionais para poder amazenar as nossas informações.\n",
    "\n",
    "Nesta seção utilizaremos o SQLite para demonstrar como normalmente armazenamos os nossos dados.\n",
    "\n",
    "O SQLite é um banco de dados relacional baseado em arquivos. O seu objetivo é ser um banco de dados rápido, pequeno e eficiente.\n"
   ]
  },
  {
   "cell_type": "markdown",
   "metadata": {},
   "source": [
    "## 3.1 - Configuração"
   ]
  },
  {
   "cell_type": "code",
   "execution_count": 1,
   "metadata": {},
   "outputs": [],
   "source": [
    "# Recarrega automaticamente quando há modificação na pasta src/\n",
    "%load_ext autoreload\n",
    "%autoreload 2"
   ]
  },
  {
   "cell_type": "code",
   "execution_count": 2,
   "metadata": {},
   "outputs": [],
   "source": [
    "import os\n",
    "import sys\n",
    "from pathlib import Path"
   ]
  },
  {
   "cell_type": "code",
   "execution_count": 3,
   "metadata": {},
   "outputs": [],
   "source": [
    "# Configuração de diretórios\n",
    "HERE = os.path.abspath(\".\")\n",
    "MODULES = Path(HERE).parent\n",
    "DATA = Path(HERE).parent / \"data\"\n",
    "\n",
    "sys.path.insert(\n",
    "    0, str(MODULES)\n",
    ")  # para ser possível importar os módulos personalizados da pasta src/"
   ]
  },
  {
   "cell_type": "code",
   "execution_count": 4,
   "metadata": {},
   "outputs": [],
   "source": [
    "from src.io import SQLiteIO\n",
    "\n",
    "sqlite = SQLiteIO(DATA / \"0_raw\" / \"database.db\")"
   ]
  },
  {
   "cell_type": "markdown",
   "metadata": {},
   "source": [
    "## 3.2 - Criando tabela\n",
    "\n",
    "Para a nossa tabela, criaremos colunas arbitrárias que irão compor as informações necessárias que precisamos para compor o nosso \"objeto\".\n",
    "\n",
    "O nosso schema é:\n",
    "\n",
    "* ID: integer -> Chave primária;\n",
    "* Name: string;\n",
    "* Age: integer;\n",
    "* Departament: string"
   ]
  },
  {
   "cell_type": "code",
   "execution_count": 5,
   "metadata": {},
   "outputs": [
    {
     "data": {
      "text/plain": [
       "<sqlite3.Cursor at 0x7f18ec4a8b40>"
      ]
     },
     "execution_count": 5,
     "metadata": {},
     "output_type": "execute_result"
    }
   ],
   "source": [
    "sqlite.query(\n",
    "    \"\"\"\n",
    "        CREATE TABLE IF NOT EXISTS employees (\n",
    "            id INTEGER PRIMARY KEY,\n",
    "            name TEXT NOT NULL,\n",
    "            age INTEGER,\n",
    "            departament TEXT\n",
    "        )\n",
    "    \"\"\"\n",
    ")"
   ]
  },
  {
   "cell_type": "markdown",
   "metadata": {},
   "source": [
    "## 3.3 - Inserindo dados\n",
    "\n",
    "Tradicionalmente, introduzimos esses dados de maneira estruturada em que cada valor pertence a uma coluna.\n",
    "\n",
    "| Id | Name | Age | Departament |\n",
    "| - | -------- | -- | ----- |\n",
    "| 1 | John Doe | 30 | Sales |"
   ]
  },
  {
   "cell_type": "code",
   "execution_count": 6,
   "metadata": {},
   "outputs": [],
   "source": [
    "sqlite.query(\n",
    "    \"INSERT INTO employees (name, age, departament) VALUES(?, ?, ?)\",\n",
    "    (\"John Doe\", 30, \"Sales\"),\n",
    ")\n",
    "\n",
    "sqlite.close()"
   ]
  },
  {
   "cell_type": "markdown",
   "metadata": {},
   "source": [
    "## 3.4 - Buscando dados\n",
    "\n",
    "Utilizando um método que busca todos os nossos dados da nossa tabela employess conseguimos ver o dado diretamente."
   ]
  },
  {
   "cell_type": "code",
   "execution_count": 7,
   "metadata": {},
   "outputs": [
    {
     "data": {
      "text/html": [
       "<div>\n",
       "<style scoped>\n",
       "    .dataframe tbody tr th:only-of-type {\n",
       "        vertical-align: middle;\n",
       "    }\n",
       "\n",
       "    .dataframe tbody tr th {\n",
       "        vertical-align: top;\n",
       "    }\n",
       "\n",
       "    .dataframe thead th {\n",
       "        text-align: right;\n",
       "    }\n",
       "</style>\n",
       "<table border=\"1\" class=\"dataframe\">\n",
       "  <thead>\n",
       "    <tr style=\"text-align: right;\">\n",
       "      <th></th>\n",
       "      <th>id</th>\n",
       "      <th>name</th>\n",
       "      <th>age</th>\n",
       "      <th>departament</th>\n",
       "    </tr>\n",
       "  </thead>\n",
       "  <tbody>\n",
       "    <tr>\n",
       "      <th>0</th>\n",
       "      <td>1</td>\n",
       "      <td>John Doe</td>\n",
       "      <td>30</td>\n",
       "      <td>Sales</td>\n",
       "    </tr>\n",
       "  </tbody>\n",
       "</table>\n",
       "</div>"
      ],
      "text/plain": [
       "   id      name  age departament\n",
       "0   1  John Doe   30       Sales"
      ]
     },
     "execution_count": 7,
     "metadata": {},
     "output_type": "execute_result"
    }
   ],
   "source": [
    "sqlite.read(table_name=\"employees\")"
   ]
  },
  {
   "cell_type": "markdown",
   "metadata": {},
   "source": [
    "Para consultas mais avançadas, nós filtraríamos as linhas de acordo com as condições necessárias para cada coluna. Seja filtrando pelo nome, idade ou departamento."
   ]
  }
 ],
 "metadata": {
  "kernelspec": {
   "display_name": ".venv",
   "language": "python",
   "name": "python3"
  },
  "language_info": {
   "codemirror_mode": {
    "name": "ipython",
    "version": 3
   },
   "file_extension": ".py",
   "mimetype": "text/x-python",
   "name": "python",
   "nbconvert_exporter": "python",
   "pygments_lexer": "ipython3",
   "version": "3.11.6"
  }
 },
 "nbformat": 4,
 "nbformat_minor": 2
}
