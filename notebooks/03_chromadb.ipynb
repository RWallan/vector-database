{
 "cells": [
  {
   "cell_type": "markdown",
   "metadata": {},
   "source": [
    "# Utilizando banco de dados vetorial\n",
    "\n",
    "Neste notebook iremos utilizar uma banco de dados vetorial para armazenar nossos vetores de maneira mais eficiente do que utilizando o SqLite.\n",
    "\n",
    "Existem diveras opções de bancos vetoriais para serem utilizadas:\n",
    "\n",
    "![Vector Database Examples](../public/vecdb-examples.png)\n",
    "\n",
    "Utilizaremos o ChromaDB para o nosso exemplo. O ChromaDB, assim como o Sqlite, é um banco de dados de ficheiro, ou seja, um banco de dados que pode ser armazenado localmente.\n",
    "\n"
   ]
  },
  {
   "cell_type": "markdown",
   "metadata": {},
   "source": [
    "## 1 - Configuração"
   ]
  },
  {
   "cell_type": "code",
   "execution_count": 1,
   "metadata": {},
   "outputs": [],
   "source": [
    "# Recarrega automaticamente quando há modificação na pasta src/\n",
    "%load_ext autoreload\n",
    "%autoreload 2"
   ]
  },
  {
   "cell_type": "code",
   "execution_count": 2,
   "metadata": {},
   "outputs": [],
   "source": [
    "import os\n",
    "import sys\n",
    "from pathlib import Path\n",
    "\n",
    "import pandas as pd"
   ]
  },
  {
   "cell_type": "code",
   "execution_count": 3,
   "metadata": {},
   "outputs": [],
   "source": [
    "# Configuração de diretórios\n",
    "HERE = os.path.abspath(\".\")\n",
    "MODULES = Path(HERE).parent\n",
    "DATA = Path(HERE).parent / \"data\"\n",
    "\n",
    "sys.path.insert(\n",
    "    0, str(MODULES)\n",
    ")  # para ser possível importar os módulos personalizados da pasta src/"
   ]
  },
  {
   "cell_type": "markdown",
   "metadata": {},
   "source": [
    "## 2 - ETL\n",
    "\n",
    "Construíremos um ETL para fazer algumas transformações no nosso banco de dados para prepara-lo para popular o vector database.\n"
   ]
  },
  {
   "cell_type": "code",
   "execution_count": 4,
   "metadata": {},
   "outputs": [
    {
     "data": {
      "text/html": [
       "<div>\n",
       "<style scoped>\n",
       "    .dataframe tbody tr th:only-of-type {\n",
       "        vertical-align: middle;\n",
       "    }\n",
       "\n",
       "    .dataframe tbody tr th {\n",
       "        vertical-align: top;\n",
       "    }\n",
       "\n",
       "    .dataframe thead th {\n",
       "        text-align: right;\n",
       "    }\n",
       "</style>\n",
       "<table border=\"1\" class=\"dataframe\">\n",
       "  <thead>\n",
       "    <tr style=\"text-align: right;\">\n",
       "      <th></th>\n",
       "      <th>category</th>\n",
       "      <th>title</th>\n",
       "      <th>subtitle</th>\n",
       "      <th>subtitle_truncated_flag</th>\n",
       "    </tr>\n",
       "  </thead>\n",
       "  <tbody>\n",
       "    <tr>\n",
       "      <th>0</th>\n",
       "      <td>work</td>\n",
       "      <td>\"21 Conversations\" - A fun (and easy) game for...</td>\n",
       "      <td>A (new?) Icebreaker game to get your team to s...</td>\n",
       "      <td>False</td>\n",
       "    </tr>\n",
       "    <tr>\n",
       "      <th>1</th>\n",
       "      <td>spirituality</td>\n",
       "      <td>\"Biblical Porn\" at Mars Hill</td>\n",
       "      <td>Author and UW lecturer Jessica Johnson talks a...</td>\n",
       "      <td>False</td>\n",
       "    </tr>\n",
       "    <tr>\n",
       "      <th>2</th>\n",
       "      <td>lgbtqia</td>\n",
       "      <td>\"CISGENDER?! Is That A Disease?!\"</td>\n",
       "      <td>Or, a primer in gender vocabulary for the curi...</td>\n",
       "      <td>False</td>\n",
       "    </tr>\n",
       "    <tr>\n",
       "      <th>3</th>\n",
       "      <td>equality</td>\n",
       "      <td>\"Call me Nat Love\" :Black Cowboys and the Fron...</td>\n",
       "      <td>NaN</td>\n",
       "      <td>False</td>\n",
       "    </tr>\n",
       "    <tr>\n",
       "      <th>4</th>\n",
       "      <td>artificial-intelligence</td>\n",
       "      <td>\"Can I Train my Model on Your Computer?\"</td>\n",
       "      <td>How we waste computational resources and how t...</td>\n",
       "      <td>False</td>\n",
       "    </tr>\n",
       "  </tbody>\n",
       "</table>\n",
       "</div>"
      ],
      "text/plain": [
       "                  category                                              title  \\\n",
       "0                     work  \"21 Conversations\" - A fun (and easy) game for...   \n",
       "1             spirituality                       \"Biblical Porn\" at Mars Hill   \n",
       "2                  lgbtqia                  \"CISGENDER?! Is That A Disease?!\"   \n",
       "3                 equality  \"Call me Nat Love\" :Black Cowboys and the Fron...   \n",
       "4  artificial-intelligence           \"Can I Train my Model on Your Computer?\"   \n",
       "\n",
       "                                            subtitle  subtitle_truncated_flag  \n",
       "0  A (new?) Icebreaker game to get your team to s...                    False  \n",
       "1  Author and UW lecturer Jessica Johnson talks a...                    False  \n",
       "2  Or, a primer in gender vocabulary for the curi...                    False  \n",
       "3                                                NaN                    False  \n",
       "4  How we waste computational resources and how t...                    False  "
      ]
     },
     "execution_count": 4,
     "metadata": {},
     "output_type": "execute_result"
    }
   ],
   "source": [
    "pd.read_csv(DATA / \"0_raw\" / \"medium_post_titles.csv\").head()"
   ]
  },
  {
   "cell_type": "markdown",
   "metadata": {},
   "source": [
    "O nosso ETL consiste nos passos:\n",
    "\n",
    "1. Retirar NA's\n",
    "1. Remover linhas que possuem a flag `subtitle_truncated_flag`.\n",
    "1. Filtrar as categorias para: \"artificial-intelligence\", \"data-science\" e \"machine-learning\".\n",
    "1. Criar a coluna \"Text\" concatenando title e subtitle. Essa coluna será a que utilizaremos para construir os nosso vetores\n",
    "1. Criando coluna \"Metadata\" contendo informações que correspondem ao nosso vetor\n",
    "1. Criando coluna de ID\n",
    "1. Filtrando as colunas para as que utilizaremos ao popular o vector database: \"id\", \"text\" e \"metadata\""
   ]
  },
  {
   "cell_type": "code",
   "execution_count": null,
   "metadata": {},
   "outputs": [],
   "source": [
    "from src.pipe import ETL\n",
    "\n",
    "etl = ETL(DATA / \"0_raw\" / \"medium_post_titles.csv\")\n",
    "\n",
    "etl.pipeline()"
   ]
  },
  {
   "cell_type": "markdown",
   "metadata": {},
   "source": [
    "## 3 - Criando o vector database"
   ]
  },
  {
   "cell_type": "markdown",
   "metadata": {},
   "source": [
    "### 3.1 - Criando a conexão com o ChromaDB"
   ]
  },
  {
   "cell_type": "code",
   "execution_count": 6,
   "metadata": {},
   "outputs": [],
   "source": [
    "from src.io import ChromaDBIO\n",
    "\n",
    "chroma = ChromaDBIO(\n",
    "    DATA / \"2_processed\" / \"medium-chroma-db\" / \"medium-article\"\n",
    ")"
   ]
  },
  {
   "cell_type": "markdown",
   "metadata": {},
   "source": [
    "### 3.2 - Populando o ChromaDB\n",
    "\n",
    "A vantagem de utilizar um banco de dados vetorial é que estes já incorporam modelos de embedding durante o processo de população dos dados. Isso faz com que o nosso script fique limpo, leve e rápido - principalmente quando o banco de dados vetorial está em núvem.\n",
    "\n",
    "Por padrão o ChromaDB utiliza o all-MiniLM-L6-v2 para fazer o embedding dos vetores. Porém é possível incorporar outros modelos que estão disponíveis na biblioteca, modelos do HuggingFace e até mesmo da OpenAI. O ChromaDB também disponibiliza integração com o LangChain.\n"
   ]
  },
  {
   "cell_type": "code",
   "execution_count": 7,
   "metadata": {},
   "outputs": [],
   "source": [
    "chroma.upsert_data(\"medium_post_titles.parquet\")"
   ]
  },
  {
   "cell_type": "markdown",
   "metadata": {},
   "source": [
    "O ChromaDB suporta as seguintes métricas de similaridade:\n",
    "\n",
    "Distância -> Parâmetro -> Equação\n",
    "\n",
    "Squared L2 -> \"l2\" -> $d = \\sum\\left(A_i-B_i\\right)^2$\n",
    "\n",
    "Inner Product -> \"ip\" -> $d = 1.0 - \\sum\\left(A_i \\times B_i\\right)$\n",
    "\n",
    "Cosine Similarity -> \"cosine\" -> $d = 1.0 - \\frac{\\sum\\left(A_i \\times B_i\\right)}{\\sqrt{\\sum\\left(A_i^2\\right)} \\cdot \\sqrt{\\sum\\left(B_i^2\\right)}}$\n",
    "\n",
    "Por padrão o Chroma utiliza a distância L2."
   ]
  },
  {
   "cell_type": "code",
   "execution_count": 8,
   "metadata": {},
   "outputs": [
    {
     "data": {
      "text/plain": [
       "{'ids': [['493']],\n",
       " 'distances': [[0.7876980230561456]],\n",
       " 'metadatas': [[{'category': 'data-science',\n",
       "    'text': '10 Machine Learning Methods that Every Data Scientist Should Know Jump-start your data science skills'}]],\n",
       " 'embeddings': None,\n",
       " 'documents': [['10 Machine Learning Methods that Every Data Scientist Should Know Jump-start your data science skills']]}"
      ]
     },
     "execution_count": 8,
     "metadata": {},
     "output_type": "execute_result"
    }
   ],
   "source": [
    "chroma.query(\"Data Science\", n_results=1).model_dump()"
   ]
  },
  {
   "cell_type": "code",
   "execution_count": 9,
   "metadata": {},
   "outputs": [
    {
     "data": {
      "text/html": [
       "<div>\n",
       "<style scoped>\n",
       "    .dataframe tbody tr th:only-of-type {\n",
       "        vertical-align: middle;\n",
       "    }\n",
       "\n",
       "    .dataframe tbody tr th {\n",
       "        vertical-align: top;\n",
       "    }\n",
       "\n",
       "    .dataframe thead th {\n",
       "        text-align: right;\n",
       "    }\n",
       "</style>\n",
       "<table border=\"1\" class=\"dataframe\">\n",
       "  <thead>\n",
       "    <tr style=\"text-align: right;\">\n",
       "      <th></th>\n",
       "      <th>ids</th>\n",
       "      <th>distances</th>\n",
       "      <th>documents</th>\n",
       "      <th>category</th>\n",
       "      <th>text</th>\n",
       "    </tr>\n",
       "  </thead>\n",
       "  <tbody>\n",
       "    <tr>\n",
       "      <th>1</th>\n",
       "      <td>289</td>\n",
       "      <td>0.841722</td>\n",
       "      <td>(Robot) data scientists as a service Automatin...</td>\n",
       "      <td>data-science</td>\n",
       "      <td>(Robot) data scientists as a service Automatin...</td>\n",
       "    </tr>\n",
       "    <tr>\n",
       "      <th>0</th>\n",
       "      <td>493</td>\n",
       "      <td>0.787698</td>\n",
       "      <td>10 Machine Learning Methods that Every Data Sc...</td>\n",
       "      <td>data-science</td>\n",
       "      <td>10 Machine Learning Methods that Every Data Sc...</td>\n",
       "    </tr>\n",
       "  </tbody>\n",
       "</table>\n",
       "</div>"
      ],
      "text/plain": [
       "   ids  distances                                          documents  \\\n",
       "1  289   0.841722  (Robot) data scientists as a service Automatin...   \n",
       "0  493   0.787698  10 Machine Learning Methods that Every Data Sc...   \n",
       "\n",
       "       category                                               text  \n",
       "1  data-science  (Robot) data scientists as a service Automatin...  \n",
       "0  data-science  10 Machine Learning Methods that Every Data Sc...  "
      ]
     },
     "execution_count": 9,
     "metadata": {},
     "output_type": "execute_result"
    }
   ],
   "source": [
    "chroma.read_to_pandas(\"Data Science\", n_results=2)"
   ]
  },
  {
   "cell_type": "code",
   "execution_count": null,
   "metadata": {},
   "outputs": [],
   "source": []
  }
 ],
 "metadata": {
  "kernelspec": {
   "display_name": ".venv",
   "language": "python",
   "name": "python3"
  },
  "language_info": {
   "codemirror_mode": {
    "name": "ipython",
    "version": 3
   },
   "file_extension": ".py",
   "mimetype": "text/x-python",
   "name": "python",
   "nbconvert_exporter": "python",
   "pygments_lexer": "ipython3",
   "version": "3.11.6"
  }
 },
 "nbformat": 4,
 "nbformat_minor": 2
}
