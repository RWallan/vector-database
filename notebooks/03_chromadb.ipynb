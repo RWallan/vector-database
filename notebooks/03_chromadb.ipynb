{
 "cells": [
  {
   "cell_type": "markdown",
   "metadata": {},
   "source": [
    "# Utilizando banco de dados vetorial\n",
    "\n",
    "Neste notebook iremos utilizar uma banco de dados vetorial para armazenar nossos vetores de maneira mais eficiente do que utilizando o SqLite.\n",
    "\n",
    "Existem diveras opções de bancos vetoriais para serem utilizadas:\n",
    "\n",
    "![Vector Database Examples](../public/vecdb-examples.png)\n",
    "\n",
    "Utilizaremos o ChromaDB para o nosso exemplo. O ChromaDB, assim como o Sqlite, é um banco de dados de ficheiro, ou seja, um banco de dados que pode ser armazenado localmente.\n",
    "\n"
   ]
  },
  {
   "cell_type": "markdown",
   "metadata": {},
   "source": [
    "## 1 - Configuração"
   ]
  },
  {
   "cell_type": "code",
   "execution_count": null,
   "metadata": {},
   "outputs": [],
   "source": [
    "# Recarrega automaticamente quando há modificação na pasta src/\n",
    "%load_ext autoreload\n",
    "%autoreload 2"
   ]
  },
  {
   "cell_type": "code",
   "execution_count": null,
   "metadata": {},
   "outputs": [],
   "source": [
    "import os\n",
    "import sys\n",
    "from pathlib import Path\n",
    "\n",
    "import pandas as pd"
   ]
  },
  {
   "cell_type": "code",
   "execution_count": null,
   "metadata": {},
   "outputs": [],
   "source": [
    "# Configuração de diretórios\n",
    "HERE = os.path.abspath(\".\")\n",
    "MODULES = Path(HERE).parent\n",
    "DATA = Path(HERE).parent / \"data\"\n",
    "\n",
    "sys.path.insert(\n",
    "    0, str(MODULES)\n",
    ")  # para ser possível importar os módulos personalizados da pasta src/"
   ]
  },
  {
   "cell_type": "code",
   "execution_count": null,
   "metadata": {},
   "outputs": [],
   "source": [
    "from src.pipe import ETL\n",
    "\n",
    "etl = ETL(DATA / \"0_raw\" / \"medium_post_titles.csv\")\n",
    "\n",
    "etl.pipeline()"
   ]
  },
  {
   "cell_type": "code",
   "execution_count": null,
   "metadata": {},
   "outputs": [],
   "source": [
    "from src.io import ChromaDBIO\n",
    "\n",
    "chroma = ChromaDBIO(\n",
    "    DATA / \"2_processed\" / \"medium-chroma-db\" / \"medium-article\"\n",
    ")"
   ]
  },
  {
   "cell_type": "code",
   "execution_count": null,
   "metadata": {},
   "outputs": [],
   "source": [
    "chroma.upsert_data(\"medium_post_titles.parquet\")"
   ]
  },
  {
   "cell_type": "code",
   "execution_count": null,
   "metadata": {},
   "outputs": [],
   "source": [
    "chroma.query(\"Data Science\", n_results=1).model_dump()"
   ]
  },
  {
   "cell_type": "code",
   "execution_count": null,
   "metadata": {},
   "outputs": [],
   "source": [
    "chroma.read_to_pandas(\"Data Science\", n_results=2)"
   ]
  },
  {
   "cell_type": "code",
   "execution_count": null,
   "metadata": {},
   "outputs": [],
   "source": []
  }
 ],
 "metadata": {
  "kernelspec": {
   "display_name": ".venv",
   "language": "python",
   "name": "python3"
  },
  "language_info": {
   "codemirror_mode": {
    "name": "ipython",
    "version": 3
   },
   "file_extension": ".py",
   "mimetype": "text/x-python",
   "name": "python",
   "nbconvert_exporter": "python",
   "pygments_lexer": "ipython3",
   "version": "3.11.6"
  }
 },
 "nbformat": 4,
 "nbformat_minor": 2
}
